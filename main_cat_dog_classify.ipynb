{
 "cells": [
  {
   "cell_type": "code",
   "execution_count": 16,
   "metadata": {},
   "outputs": [],
   "source": [
    "import tensorflow as tf\n",
    "from tensorflow.keras.models import Sequential\n",
    "from tensorflow.keras.layers import Dense, GlobalAveragePooling2D, Dropout, Rescaling\n",
    "from tensorflow.keras.applications import MobileNetV2\n",
    "from tensorflow.keras.callbacks import EarlyStopping\n",
    "from sklearn.metrics import classification_report, accuracy_score\n",
    "import matplotlib.pyplot as plt\n",
    "import numpy as np\n",
    "from PIL import Image, ImageDraw, ImageFont\n",
    "import os"
   ]
  },
  {
   "cell_type": "code",
   "execution_count": 17,
   "metadata": {},
   "outputs": [],
   "source": [
    "# Step 1: Dataset Preparation\n",
    "def prepare_dataset(data_dir, batch_size=32, img_size=(128, 128)):\n",
    "    train_ds = tf.keras.utils.image_dataset_from_directory(\n",
    "        data_dir,\n",
    "        validation_split=0.2,\n",
    "        subset=\"training\",\n",
    "        seed=42,\n",
    "        image_size=img_size,\n",
    "        batch_size=batch_size,\n",
    "    )\n",
    "\n",
    "    val_ds = tf.keras.utils.image_dataset_from_directory(\n",
    "        data_dir,\n",
    "        validation_split=0.2,\n",
    "        subset=\"validation\",\n",
    "        seed=42,\n",
    "        image_size=img_size,\n",
    "        batch_size=batch_size,\n",
    "    )\n",
    "\n",
    "    # Extract class names before normalization\n",
    "    class_names = train_ds.class_names\n",
    "\n",
    "    # Data Augmentation\n",
    "    data_augmentation = Sequential([\n",
    "        tf.keras.layers.RandomFlip(\"horizontal\"),\n",
    "        tf.keras.layers.RandomRotation(0.2),\n",
    "        tf.keras.layers.RandomZoom(0.2),\n",
    "    ])\n",
    "\n",
    "    # Normalize pixel values to [0, 1]\n",
    "    normalization_layer = Rescaling(1.0 / 255)\n",
    "    train_ds = train_ds.map(lambda x, y: (data_augmentation(normalization_layer(x)), y))\n",
    "    val_ds = val_ds.map(lambda x, y: (normalization_layer(x), y))\n",
    "    \n",
    "    return train_ds, val_ds, class_names"
   ]
  },
  {
   "cell_type": "code",
   "execution_count": 18,
   "metadata": {},
   "outputs": [],
   "source": [
    "# Step 2: Build Model\n",
    "def build_model(img_size=(128, 128)):\n",
    "    base_model = MobileNetV2(input_shape=img_size + (3,), include_top=False, weights=\"imagenet\")\n",
    "    base_model.trainable = False  # Freeze the base model initially\n",
    "\n",
    "    model = Sequential([\n",
    "        base_model,\n",
    "        GlobalAveragePooling2D(),\n",
    "        Dense(128, activation=\"relu\", kernel_regularizer=tf.keras.regularizers.l2(0.01)),\n",
    "        Dropout(0.6),  # Increased dropout rate to prevent overfitting\n",
    "        Dense(2, activation=\"softmax\")  # Two output classes: Cat and Dog\n",
    "    ])\n",
    "    model.compile(optimizer=tf.keras.optimizers.Adam(learning_rate=0.0001),  # Lower learning rate\n",
    "                  loss=\"sparse_categorical_crossentropy\",\n",
    "                  metrics=[\"accuracy\"])\n",
    "    return model"
   ]
  },
  {
   "cell_type": "code",
   "execution_count": 19,
   "metadata": {},
   "outputs": [],
   "source": [
    "# Step 3: Plot Training History\n",
    "def plot_training_history(history):\n",
    "    fig, ax = plt.subplots(2, 1, figsize=(10, 8), sharex=True)\n",
    "    \n",
    "    ax[0].plot(history.history['accuracy'], label='Training Accuracy', marker='o')\n",
    "    ax[0].plot(history.history['val_accuracy'], label='Validation Accuracy', marker='o')\n",
    "    ax[0].set_ylabel('Accuracy')\n",
    "    ax[0].legend()\n",
    "    ax[0].grid(True)\n",
    "    \n",
    "    ax[1].plot(history.history['loss'], label='Training Loss', marker='o')\n",
    "    ax[1].plot(history.history['val_loss'], label='Validation Loss', marker='o')\n",
    "    ax[1].set_ylabel('Loss')\n",
    "    ax[1].set_xlabel('Epochs')\n",
    "    ax[1].legend()\n",
    "    ax[1].grid(True)\n",
    "    \n",
    "    plt.show()\n"
   ]
  },
  {
   "cell_type": "code",
   "execution_count": 20,
   "metadata": {},
   "outputs": [],
   "source": [
    "from PIL import Image, ImageDraw, ImageFont\n",
    "\n",
    "def classify_and_label_image(model, img_path, class_names, font_size=50, text_color=\"orange\"):\n",
    "    # Load and preprocess the image\n",
    "    img = tf.keras.utils.load_img(img_path, target_size=(128, 128))\n",
    "    img_array = tf.keras.utils.img_to_array(img)\n",
    "    img_array = np.expand_dims(img_array, axis=0) / 255.0  # Normalize to [0, 1]\n",
    "\n",
    "    # Predict the class\n",
    "    predictions = model.predict(img_array)\n",
    "    class_idx = np.argmax(predictions[0])\n",
    "    class_name = class_names[class_idx]\n",
    "\n",
    "    # Open the image for labeling\n",
    "    img_with_label = Image.open(img_path).convert(\"RGB\")\n",
    "    draw = ImageDraw.Draw(img_with_label)\n",
    "\n",
    "    # Use a truetype font with adjustable size\n",
    "    try:\n",
    "        # Use a bold font (default to a system font path; adjust if needed)\n",
    "        font = ImageFont.truetype(\"arial.ttf\", font_size)\n",
    "    except IOError:\n",
    "        # Fallback to default font if custom font isn't found\n",
    "        font = ImageFont.load_default()\n",
    "\n",
    "    # Draw the text\n",
    "    text = f\"Classified: {class_name}\"\n",
    "    draw.text((25, 25), text, fill=text_color, font=font)\n",
    "\n",
    "    # Display the image with the label\n",
    "    img_with_label.show()\n",
    "    return class_name\n"
   ]
  },
  {
   "cell_type": "code",
   "execution_count": 21,
   "metadata": {},
   "outputs": [],
   "source": [
    "# Main Workflow\n",
    "if __name__ == \"__main__\":\n",
    "    data_dir = \"C:/Users/Acer/Downloads/Activity_01/dataset\"  # Replace with your dataset path\n",
    "    batch_size = 32\n",
    "    img_size = (128, 128)"
   ]
  },
  {
   "cell_type": "code",
   "execution_count": 22,
   "metadata": {},
   "outputs": [
    {
     "name": "stdout",
     "output_type": "stream",
     "text": [
      "Step 1: Preparing dataset...\n",
      "Found 10000 files belonging to 2 classes.\n",
      "Using 8000 files for training.\n",
      "Found 10000 files belonging to 2 classes.\n",
      "Using 2000 files for validation.\n",
      "Classes: ['cats', 'dogs']\n"
     ]
    }
   ],
   "source": [
    "print(\"Step 1: Preparing dataset...\")\n",
    "train_ds, val_ds, class_names = prepare_dataset(data_dir, batch_size=batch_size, img_size=img_size)\n",
    "print(\"Classes:\", class_names)"
   ]
  },
  {
   "cell_type": "code",
   "execution_count": 23,
   "metadata": {},
   "outputs": [
    {
     "name": "stdout",
     "output_type": "stream",
     "text": [
      "Step 2: Building model...\n"
     ]
    }
   ],
   "source": [
    "print(\"Step 2: Building model...\")\n",
    "model = build_model(img_size=img_size)"
   ]
  },
  {
   "cell_type": "code",
   "execution_count": 24,
   "metadata": {},
   "outputs": [
    {
     "name": "stdout",
     "output_type": "stream",
     "text": [
      "Step 3: Training model...\n",
      "Epoch 1/70\n",
      "\u001b[1m250/250\u001b[0m \u001b[32m━━━━━━━━━━━━━━━━━━━━\u001b[0m\u001b[37m\u001b[0m \u001b[1m143s\u001b[0m 521ms/step - accuracy: 0.7282 - loss: 2.8278 - val_accuracy: 0.9510 - val_loss: 1.9803\n",
      "Epoch 2/70\n",
      "\u001b[1m250/250\u001b[0m \u001b[32m━━━━━━━━━━━━━━━━━━━━\u001b[0m\u001b[37m\u001b[0m \u001b[1m99s\u001b[0m 396ms/step - accuracy: 0.8599 - loss: 2.0672 - val_accuracy: 0.9605 - val_loss: 1.6086\n",
      "Epoch 3/70\n",
      "\u001b[1m250/250\u001b[0m \u001b[32m━━━━━━━━━━━━━━━━━━━━\u001b[0m\u001b[37m\u001b[0m \u001b[1m111s\u001b[0m 441ms/step - accuracy: 0.8862 - loss: 1.7012 - val_accuracy: 0.9620 - val_loss: 1.3355\n",
      "Epoch 4/70\n",
      "\u001b[1m250/250\u001b[0m \u001b[32m━━━━━━━━━━━━━━━━━━━━\u001b[0m\u001b[37m\u001b[0m \u001b[1m118s\u001b[0m 468ms/step - accuracy: 0.8908 - loss: 1.4331 - val_accuracy: 0.9620 - val_loss: 1.1299\n",
      "Epoch 5/70\n",
      "\u001b[1m250/250\u001b[0m \u001b[32m━━━━━━━━━━━━━━━━━━━━\u001b[0m\u001b[37m\u001b[0m \u001b[1m81s\u001b[0m 322ms/step - accuracy: 0.8945 - loss: 1.2352 - val_accuracy: 0.9645 - val_loss: 0.9688\n",
      "Epoch 6/70\n",
      "\u001b[1m250/250\u001b[0m \u001b[32m━━━━━━━━━━━━━━━━━━━━\u001b[0m\u001b[37m\u001b[0m \u001b[1m78s\u001b[0m 313ms/step - accuracy: 0.8994 - loss: 1.0770 - val_accuracy: 0.9625 - val_loss: 0.8381\n",
      "Epoch 7/70\n",
      "\u001b[1m250/250\u001b[0m \u001b[32m━━━━━━━━━━━━━━━━━━━━\u001b[0m\u001b[37m\u001b[0m \u001b[1m81s\u001b[0m 323ms/step - accuracy: 0.9032 - loss: 0.9455 - val_accuracy: 0.9635 - val_loss: 0.7302\n",
      "Epoch 8/70\n",
      "\u001b[1m250/250\u001b[0m \u001b[32m━━━━━━━━━━━━━━━━━━━━\u001b[0m\u001b[37m\u001b[0m \u001b[1m76s\u001b[0m 305ms/step - accuracy: 0.9052 - loss: 0.8393 - val_accuracy: 0.9645 - val_loss: 0.6399\n",
      "Epoch 9/70\n",
      "\u001b[1m250/250\u001b[0m \u001b[32m━━━━━━━━━━━━━━━━━━━━\u001b[0m\u001b[37m\u001b[0m \u001b[1m75s\u001b[0m 299ms/step - accuracy: 0.8963 - loss: 0.7590 - val_accuracy: 0.9625 - val_loss: 0.5690\n",
      "Epoch 10/70\n",
      "\u001b[1m250/250\u001b[0m \u001b[32m━━━━━━━━━━━━━━━━━━━━\u001b[0m\u001b[37m\u001b[0m \u001b[1m69s\u001b[0m 276ms/step - accuracy: 0.9029 - loss: 0.6850 - val_accuracy: 0.9640 - val_loss: 0.5096\n",
      "Epoch 11/70\n",
      "\u001b[1m250/250\u001b[0m \u001b[32m━━━━━━━━━━━━━━━━━━━━\u001b[0m\u001b[37m\u001b[0m \u001b[1m69s\u001b[0m 275ms/step - accuracy: 0.9100 - loss: 0.6105 - val_accuracy: 0.9615 - val_loss: 0.4537\n",
      "Epoch 12/70\n",
      "\u001b[1m250/250\u001b[0m \u001b[32m━━━━━━━━━━━━━━━━━━━━\u001b[0m\u001b[37m\u001b[0m \u001b[1m71s\u001b[0m 282ms/step - accuracy: 0.9071 - loss: 0.5716 - val_accuracy: 0.9670 - val_loss: 0.4087\n",
      "Epoch 13/70\n",
      "\u001b[1m250/250\u001b[0m \u001b[32m━━━━━━━━━━━━━━━━━━━━\u001b[0m\u001b[37m\u001b[0m \u001b[1m69s\u001b[0m 275ms/step - accuracy: 0.9171 - loss: 0.5087 - val_accuracy: 0.9640 - val_loss: 0.3755\n",
      "Epoch 14/70\n",
      "\u001b[1m250/250\u001b[0m \u001b[32m━━━━━━━━━━━━━━━━━━━━\u001b[0m\u001b[37m\u001b[0m \u001b[1m69s\u001b[0m 275ms/step - accuracy: 0.9105 - loss: 0.4815 - val_accuracy: 0.9685 - val_loss: 0.3429\n",
      "Epoch 15/70\n",
      "\u001b[1m250/250\u001b[0m \u001b[32m━━━━━━━━━━━━━━━━━━━━\u001b[0m\u001b[37m\u001b[0m \u001b[1m69s\u001b[0m 276ms/step - accuracy: 0.9187 - loss: 0.4482 - val_accuracy: 0.9670 - val_loss: 0.3137\n",
      "Epoch 16/70\n",
      "\u001b[1m250/250\u001b[0m \u001b[32m━━━━━━━━━━━━━━━━━━━━\u001b[0m\u001b[37m\u001b[0m \u001b[1m71s\u001b[0m 282ms/step - accuracy: 0.9111 - loss: 0.4264 - val_accuracy: 0.9660 - val_loss: 0.2926\n",
      "Epoch 17/70\n",
      "\u001b[1m250/250\u001b[0m \u001b[32m━━━━━━━━━━━━━━━━━━━━\u001b[0m\u001b[37m\u001b[0m \u001b[1m70s\u001b[0m 280ms/step - accuracy: 0.9161 - loss: 0.3939 - val_accuracy: 0.9660 - val_loss: 0.2683\n",
      "Epoch 18/70\n",
      "\u001b[1m250/250\u001b[0m \u001b[32m━━━━━━━━━━━━━━━━━━━━\u001b[0m\u001b[37m\u001b[0m \u001b[1m67s\u001b[0m 268ms/step - accuracy: 0.9148 - loss: 0.3795 - val_accuracy: 0.9640 - val_loss: 0.2553\n",
      "Epoch 19/70\n",
      "\u001b[1m250/250\u001b[0m \u001b[32m━━━━━━━━━━━━━━━━━━━━\u001b[0m\u001b[37m\u001b[0m \u001b[1m70s\u001b[0m 282ms/step - accuracy: 0.9186 - loss: 0.3629 - val_accuracy: 0.9660 - val_loss: 0.2388\n",
      "Epoch 20/70\n",
      "\u001b[1m250/250\u001b[0m \u001b[32m━━━━━━━━━━━━━━━━━━━━\u001b[0m\u001b[37m\u001b[0m \u001b[1m65s\u001b[0m 259ms/step - accuracy: 0.9169 - loss: 0.3485 - val_accuracy: 0.9665 - val_loss: 0.2246\n",
      "Epoch 21/70\n",
      "\u001b[1m250/250\u001b[0m \u001b[32m━━━━━━━━━━━━━━━━━━━━\u001b[0m\u001b[37m\u001b[0m \u001b[1m69s\u001b[0m 274ms/step - accuracy: 0.9191 - loss: 0.3248 - val_accuracy: 0.9655 - val_loss: 0.2152\n",
      "Epoch 22/70\n",
      "\u001b[1m250/250\u001b[0m \u001b[32m━━━━━━━━━━━━━━━━━━━━\u001b[0m\u001b[37m\u001b[0m \u001b[1m70s\u001b[0m 279ms/step - accuracy: 0.9238 - loss: 0.3133 - val_accuracy: 0.9655 - val_loss: 0.2056\n",
      "Epoch 23/70\n",
      "\u001b[1m250/250\u001b[0m \u001b[32m━━━━━━━━━━━━━━━━━━━━\u001b[0m\u001b[37m\u001b[0m \u001b[1m67s\u001b[0m 269ms/step - accuracy: 0.9149 - loss: 0.3163 - val_accuracy: 0.9675 - val_loss: 0.1955\n",
      "Epoch 24/70\n",
      "\u001b[1m250/250\u001b[0m \u001b[32m━━━━━━━━━━━━━━━━━━━━\u001b[0m\u001b[37m\u001b[0m \u001b[1m70s\u001b[0m 279ms/step - accuracy: 0.9160 - loss: 0.3046 - val_accuracy: 0.9645 - val_loss: 0.1897\n",
      "Epoch 25/70\n",
      "\u001b[1m250/250\u001b[0m \u001b[32m━━━━━━━━━━━━━━━━━━━━\u001b[0m\u001b[37m\u001b[0m \u001b[1m73s\u001b[0m 290ms/step - accuracy: 0.9156 - loss: 0.3059 - val_accuracy: 0.9665 - val_loss: 0.1812\n",
      "Epoch 26/70\n",
      "\u001b[1m250/250\u001b[0m \u001b[32m━━━━━━━━━━━━━━━━━━━━\u001b[0m\u001b[37m\u001b[0m \u001b[1m64s\u001b[0m 254ms/step - accuracy: 0.9153 - loss: 0.2919 - val_accuracy: 0.9660 - val_loss: 0.1754\n",
      "Epoch 27/70\n",
      "\u001b[1m250/250\u001b[0m \u001b[32m━━━━━━━━━━━━━━━━━━━━\u001b[0m\u001b[37m\u001b[0m \u001b[1m63s\u001b[0m 251ms/step - accuracy: 0.9157 - loss: 0.2851 - val_accuracy: 0.9655 - val_loss: 0.1715\n",
      "Epoch 28/70\n",
      "\u001b[1m250/250\u001b[0m \u001b[32m━━━━━━━━━━━━━━━━━━━━\u001b[0m\u001b[37m\u001b[0m \u001b[1m63s\u001b[0m 250ms/step - accuracy: 0.9228 - loss: 0.2785 - val_accuracy: 0.9645 - val_loss: 0.1700\n",
      "Epoch 29/70\n",
      "\u001b[1m250/250\u001b[0m \u001b[32m━━━━━━━━━━━━━━━━━━━━\u001b[0m\u001b[37m\u001b[0m \u001b[1m62s\u001b[0m 248ms/step - accuracy: 0.9172 - loss: 0.2725 - val_accuracy: 0.9650 - val_loss: 0.1659\n",
      "Epoch 30/70\n",
      "\u001b[1m250/250\u001b[0m \u001b[32m━━━━━━━━━━━━━━━━━━━━\u001b[0m\u001b[37m\u001b[0m \u001b[1m63s\u001b[0m 253ms/step - accuracy: 0.9180 - loss: 0.2692 - val_accuracy: 0.9665 - val_loss: 0.1590\n",
      "Epoch 31/70\n",
      "\u001b[1m250/250\u001b[0m \u001b[32m━━━━━━━━━━━━━━━━━━━━\u001b[0m\u001b[37m\u001b[0m \u001b[1m78s\u001b[0m 311ms/step - accuracy: 0.9161 - loss: 0.2595 - val_accuracy: 0.9680 - val_loss: 0.1551\n",
      "Epoch 32/70\n",
      "\u001b[1m250/250\u001b[0m \u001b[32m━━━━━━━━━━━━━━━━━━━━\u001b[0m\u001b[37m\u001b[0m \u001b[1m70s\u001b[0m 279ms/step - accuracy: 0.9211 - loss: 0.2608 - val_accuracy: 0.9645 - val_loss: 0.1541\n",
      "Epoch 33/70\n",
      "\u001b[1m250/250\u001b[0m \u001b[32m━━━━━━━━━━━━━━━━━━━━\u001b[0m\u001b[37m\u001b[0m \u001b[1m68s\u001b[0m 272ms/step - accuracy: 0.9198 - loss: 0.2596 - val_accuracy: 0.9650 - val_loss: 0.1526\n",
      "Epoch 34/70\n",
      "\u001b[1m250/250\u001b[0m \u001b[32m━━━━━━━━━━━━━━━━━━━━\u001b[0m\u001b[37m\u001b[0m \u001b[1m69s\u001b[0m 277ms/step - accuracy: 0.9136 - loss: 0.2592 - val_accuracy: 0.9655 - val_loss: 0.1492\n",
      "Epoch 35/70\n",
      "\u001b[1m250/250\u001b[0m \u001b[32m━━━━━━━━━━━━━━━━━━━━\u001b[0m\u001b[37m\u001b[0m \u001b[1m61s\u001b[0m 244ms/step - accuracy: 0.9166 - loss: 0.2496 - val_accuracy: 0.9650 - val_loss: 0.1490\n",
      "Epoch 36/70\n",
      "\u001b[1m250/250\u001b[0m \u001b[32m━━━━━━━━━━━━━━━━━━━━\u001b[0m\u001b[37m\u001b[0m \u001b[1m55s\u001b[0m 220ms/step - accuracy: 0.9227 - loss: 0.2475 - val_accuracy: 0.9655 - val_loss: 0.1424\n",
      "Epoch 37/70\n",
      "\u001b[1m250/250\u001b[0m \u001b[32m━━━━━━━━━━━━━━━━━━━━\u001b[0m\u001b[37m\u001b[0m \u001b[1m54s\u001b[0m 214ms/step - accuracy: 0.9197 - loss: 0.2522 - val_accuracy: 0.9650 - val_loss: 0.1394\n",
      "Epoch 38/70\n",
      "\u001b[1m250/250\u001b[0m \u001b[32m━━━━━━━━━━━━━━━━━━━━\u001b[0m\u001b[37m\u001b[0m \u001b[1m54s\u001b[0m 217ms/step - accuracy: 0.9222 - loss: 0.2450 - val_accuracy: 0.9660 - val_loss: 0.1383\n",
      "Epoch 39/70\n",
      "\u001b[1m250/250\u001b[0m \u001b[32m━━━━━━━━━━━━━━━━━━━━\u001b[0m\u001b[37m\u001b[0m \u001b[1m54s\u001b[0m 214ms/step - accuracy: 0.9246 - loss: 0.2341 - val_accuracy: 0.9675 - val_loss: 0.1395\n",
      "Epoch 40/70\n",
      "\u001b[1m250/250\u001b[0m \u001b[32m━━━━━━━━━━━━━━━━━━━━\u001b[0m\u001b[37m\u001b[0m \u001b[1m54s\u001b[0m 214ms/step - accuracy: 0.9240 - loss: 0.2437 - val_accuracy: 0.9665 - val_loss: 0.1365\n",
      "Epoch 41/70\n",
      "\u001b[1m250/250\u001b[0m \u001b[32m━━━━━━━━━━━━━━━━━━━━\u001b[0m\u001b[37m\u001b[0m \u001b[1m53s\u001b[0m 212ms/step - accuracy: 0.9205 - loss: 0.2423 - val_accuracy: 0.9660 - val_loss: 0.1328\n",
      "Epoch 42/70\n",
      "\u001b[1m250/250\u001b[0m \u001b[32m━━━━━━━━━━━━━━━━━━━━\u001b[0m\u001b[37m\u001b[0m \u001b[1m54s\u001b[0m 214ms/step - accuracy: 0.9210 - loss: 0.2415 - val_accuracy: 0.9680 - val_loss: 0.1335\n",
      "Epoch 43/70\n",
      "\u001b[1m250/250\u001b[0m \u001b[32m━━━━━━━━━━━━━━━━━━━━\u001b[0m\u001b[37m\u001b[0m \u001b[1m54s\u001b[0m 214ms/step - accuracy: 0.9273 - loss: 0.2271 - val_accuracy: 0.9660 - val_loss: 0.1346\n",
      "Epoch 44/70\n",
      "\u001b[1m250/250\u001b[0m \u001b[32m━━━━━━━━━━━━━━━━━━━━\u001b[0m\u001b[37m\u001b[0m \u001b[1m53s\u001b[0m 213ms/step - accuracy: 0.9178 - loss: 0.2370 - val_accuracy: 0.9660 - val_loss: 0.1292\n",
      "Epoch 45/70\n",
      "\u001b[1m250/250\u001b[0m \u001b[32m━━━━━━━━━━━━━━━━━━━━\u001b[0m\u001b[37m\u001b[0m \u001b[1m54s\u001b[0m 214ms/step - accuracy: 0.9266 - loss: 0.2287 - val_accuracy: 0.9630 - val_loss: 0.1352\n",
      "Epoch 46/70\n",
      "\u001b[1m250/250\u001b[0m \u001b[32m━━━━━━━━━━━━━━━━━━━━\u001b[0m\u001b[37m\u001b[0m \u001b[1m54s\u001b[0m 213ms/step - accuracy: 0.9223 - loss: 0.2303 - val_accuracy: 0.9685 - val_loss: 0.1272\n",
      "Epoch 47/70\n",
      "\u001b[1m250/250\u001b[0m \u001b[32m━━━━━━━━━━━━━━━━━━━━\u001b[0m\u001b[37m\u001b[0m \u001b[1m54s\u001b[0m 214ms/step - accuracy: 0.9218 - loss: 0.2352 - val_accuracy: 0.9690 - val_loss: 0.1267\n",
      "Epoch 48/70\n",
      "\u001b[1m250/250\u001b[0m \u001b[32m━━━━━━━━━━━━━━━━━━━━\u001b[0m\u001b[37m\u001b[0m \u001b[1m54s\u001b[0m 216ms/step - accuracy: 0.9222 - loss: 0.2247 - val_accuracy: 0.9670 - val_loss: 0.1272\n",
      "Epoch 49/70\n",
      "\u001b[1m250/250\u001b[0m \u001b[32m━━━━━━━━━━━━━━━━━━━━\u001b[0m\u001b[37m\u001b[0m \u001b[1m55s\u001b[0m 218ms/step - accuracy: 0.9231 - loss: 0.2308 - val_accuracy: 0.9635 - val_loss: 0.1272\n",
      "Epoch 50/70\n",
      "\u001b[1m250/250\u001b[0m \u001b[32m━━━━━━━━━━━━━━━━━━━━\u001b[0m\u001b[37m\u001b[0m \u001b[1m54s\u001b[0m 214ms/step - accuracy: 0.9221 - loss: 0.2322 - val_accuracy: 0.9665 - val_loss: 0.1252\n",
      "Epoch 51/70\n",
      "\u001b[1m250/250\u001b[0m \u001b[32m━━━━━━━━━━━━━━━━━━━━\u001b[0m\u001b[37m\u001b[0m \u001b[1m54s\u001b[0m 214ms/step - accuracy: 0.9237 - loss: 0.2246 - val_accuracy: 0.9670 - val_loss: 0.1229\n",
      "Epoch 52/70\n",
      "\u001b[1m250/250\u001b[0m \u001b[32m━━━━━━━━━━━━━━━━━━━━\u001b[0m\u001b[37m\u001b[0m \u001b[1m53s\u001b[0m 213ms/step - accuracy: 0.9220 - loss: 0.2311 - val_accuracy: 0.9675 - val_loss: 0.1224\n",
      "Epoch 53/70\n",
      "\u001b[1m250/250\u001b[0m \u001b[32m━━━━━━━━━━━━━━━━━━━━\u001b[0m\u001b[37m\u001b[0m \u001b[1m54s\u001b[0m 214ms/step - accuracy: 0.9292 - loss: 0.2247 - val_accuracy: 0.9650 - val_loss: 0.1253\n",
      "Epoch 54/70\n",
      "\u001b[1m250/250\u001b[0m \u001b[32m━━━━━━━━━━━━━━━━━━━━\u001b[0m\u001b[37m\u001b[0m \u001b[1m54s\u001b[0m 214ms/step - accuracy: 0.9220 - loss: 0.2284 - val_accuracy: 0.9650 - val_loss: 0.1258\n",
      "Epoch 55/70\n",
      "\u001b[1m250/250\u001b[0m \u001b[32m━━━━━━━━━━━━━━━━━━━━\u001b[0m\u001b[37m\u001b[0m \u001b[1m53s\u001b[0m 213ms/step - accuracy: 0.9225 - loss: 0.2262 - val_accuracy: 0.9660 - val_loss: 0.1227\n"
     ]
    }
   ],
   "source": [
    "print(\"Step 3: Training model...\")\n",
    "early_stopping = EarlyStopping(monitor=\"val_loss\", patience=3, restore_best_weights=True)\n",
    "history = model.fit(train_ds, validation_data=val_ds, epochs=70, callbacks=[early_stopping])"
   ]
  },
  {
   "cell_type": "code",
   "execution_count": 25,
   "metadata": {},
   "outputs": [
    {
     "name": "stdout",
     "output_type": "stream",
     "text": [
      "Step 4: Plotting training history...\n"
     ]
    },
    {
     "data": {
      "image/png": "[encoded data removed]",
      "text/plain": [
       "<Figure size 1000x800 with 2 Axes>"
      ]
     },
     "metadata": {},
     "output_type": "display_data"
    }
   ],
   "source": [
    "print(\"Step 4: Plotting training history...\")\n",
    "plot_training_history(history)"
   ]
  },
  {
   "cell_type": "code",
   "execution_count": 26,
   "metadata": {},
   "outputs": [
    {
     "name": "stdout",
     "output_type": "stream",
     "text": [
      "Step 5: Evaluating model...\n",
      "\u001b[1m63/63\u001b[0m \u001b[32m━━━━━━━━━━━━━━━━━━━━\u001b[0m\u001b[37m\u001b[0m \u001b[1m11s\u001b[0m 154ms/step\n"
     ]
    }
   ],
   "source": [
    "print(\"Step 5: Evaluating model...\")\n",
    "# Unbatch the dataset properly to extract test data and labels\n",
    "X_test = []\n",
    "y_test = []\n",
    "for img_batch, label_batch in val_ds:\n",
    "    X_test.append(img_batch.numpy())\n",
    "    y_test.append(label_batch.numpy())\n",
    "    \n",
    "X_test = np.concatenate(X_test)\n",
    "y_test = np.concatenate(y_test)\n",
    "\n",
    "predictions = model.predict(X_test)\n",
    "y_pred = np.argmax(predictions, axis=1)"
   ]
  },
  {
   "cell_type": "code",
   "execution_count": 27,
   "metadata": {},
   "outputs": [
    {
     "name": "stdout",
     "output_type": "stream",
     "text": [
      "Classification Report:\n",
      "               precision    recall  f1-score   support\n",
      "\n",
      "        cats       0.97      0.97      0.97       980\n",
      "        dogs       0.97      0.97      0.97      1020\n",
      "\n",
      "    accuracy                           0.97      2000\n",
      "   macro avg       0.97      0.97      0.97      2000\n",
      "weighted avg       0.97      0.97      0.97      2000\n",
      "\n",
      "Accuracy: 0.9675\n"
     ]
    }
   ],
   "source": [
    "print(\"Classification Report:\\n\", classification_report(y_test, y_pred, target_names=class_names))\n",
    "print(\"Accuracy:\", accuracy_score(y_test, y_pred))"
   ]
  },
  {
   "cell_type": "code",
   "execution_count": 29,
   "metadata": {},
   "outputs": [
    {
     "name": "stdout",
     "output_type": "stream",
     "text": [
      "Step 6: Classifying a new image...\n",
      "\u001b[1m1/1\u001b[0m \u001b[32m━━━━━━━━━━━━━━━━━━━━\u001b[0m\u001b[37m\u001b[0m \u001b[1m0s\u001b[0m 62ms/step\n",
      "Classification Result: cats\n"
     ]
    }
   ],
   "source": [
    "print(\"Step 6: Classifying a new image...\")\n",
    "test_img_path = \"C:/Users/Acer/Downloads/Activity_01/photo_2024-05-14_23-47-28.jpg\"  # Replace with a test image path\n",
    "result = classify_and_label_image(model, test_img_path, class_names)\n",
    "print(f\"Classification Result: {result}\")"
   ]
  },
  {
   "cell_type": "code",
   "execution_count": 30,
   "metadata": {},
   "outputs": [
    {
     "name": "stdout",
     "output_type": "stream",
     "text": [
      "Step 7: Saving the model...\n"
     ]
    }
   ],
   "source": [
    "# Save the model\n",
    "print(\"Step 7: Saving the model...\")\n",
    "save_dir = \"saved_model\"\n",
    "os.makedirs(save_dir, exist_ok=True)\n",
    "model.save(os.path.join(save_dir, \"my_model.keras\"))  # Save in .keras format"
   ]
  },
  {
   "cell_type": "code",
   "execution_count": 31,
   "metadata": {},
   "outputs": [
    {
     "name": "stdout",
     "output_type": "stream",
     "text": [
      "Model saved at saved_model\\my_model.keras\n"
     ]
    }
   ],
   "source": [
    "# Save training history for later visualization\n",
    "np.save(os.path.join(save_dir, \"history.npy\"), history.history)\n",
    "print(f\"Model saved at {os.path.join(save_dir, 'my_model.keras')}\")"
   ]
  },
  {
   "cell_type": "code",
   "execution_count": 32,
   "metadata": {},
   "outputs": [
    {
     "name": "stderr",
     "output_type": "stream",
     "text": [
      "WARNING:absl:You are saving your model as an HDF5 file via `model.save()` or `keras.saving.save_model(model)`. This file format is considered legacy. We recommend using instead the native Keras format, e.g. `model.save('my_model.keras')` or `keras.saving.save_model(model, 'my_model.keras')`. \n"
     ]
    },
    {
     "name": "stdout",
     "output_type": "stream",
     "text": [
      "Step 7: Saving the model...\n",
      "Model saved at saved_model_01\\my_model.h5\n"
     ]
    }
   ],
   "source": [
    "# Save the model in .h5 format as well\n",
    "print(\"Step 7: Saving the model...\")\n",
    "\n",
    "# Save in .h5 format\n",
    "save_dire = \"saved_model_01\"\n",
    "os.makedirs(save_dire, exist_ok=True)\n",
    "\n",
    "# Saving the model in .h5 format\n",
    "model.save(os.path.join(save_dire, \"my_model.h5\"))  # Save in .h5 format\n",
    "print(f\"Model saved at {os.path.join(save_dire, 'my_model.h5')}\")\n"
   ]
  }
 ],
 "metadata": {
  "kernelspec": {
   "display_name": "Python 3",
   "language": "python",
   "name": "python3"
  },
  "language_info": {
   "codemirror_mode": {
    "name": "ipython",
    "version": 3
   },
   "file_extension": ".py",
   "mimetype": "text/x-python",
   "name": "python",
   "nbconvert_exporter": "python",
   "pygments_lexer": "ipython3",
   "version": "3.12.7"
  }
 },
 "nbformat": 4,
 "nbformat_minor": 2
}
